{
 "cells": [
  {
   "cell_type": "markdown",
   "metadata": {},
   "source": [
    "References\n",
    "#https://www.kaggle.com/edumunozsala/feature-eng-and-a-simple-stacked-model\n",
    "#https://www.kaggle.com/nadare/eda-feature-engineering-and-modeling-4th-359\n",
    "\n",
    "#https://www.kaggle.com/arateris/2-layer-k-fold-learning-forest-cover"
   ]
  },
  {
   "cell_type": "code",
   "execution_count": 1,
   "metadata": {},
   "outputs": [],
   "source": [
    "# For the feature engineer, there are something needed to be checked for example, if there is some value missing?\n",
    "# The distribution for the data\n",
    "import numpy as np # linear algebra\n",
    "import pandas as pd # data processing, CSV file I/O (e.g. pd.read_csv)\n",
    "import matplotlib.pyplot as plt\n",
    "import seaborn as sns\n",
    "import gc\n",
    "\n",
    "\n",
    "from sklearn.neighbors import KNeighborsClassifier\n",
    "\n",
    "from time import time\n",
    "\n",
    "from collections import Counter\n",
    "from itertools import combinations\n",
    "\n",
    "from sklearn.model_selection import cross_val_score,cross_validate, cross_val_predict,train_test_split, GridSearchCV, StratifiedKFold\n",
    "from sklearn.preprocessing import StandardScaler, RobustScaler\n",
    "from sklearn.metrics import accuracy_score, confusion_matrix, balanced_accuracy_score, make_scorer\n",
    "from sklearn.ensemble import RandomForestClassifier, ExtraTreesClassifier, RandomForestRegressor, AdaBoostClassifier\n",
    "from sklearn.linear_model import LogisticRegression\n",
    "from sklearn.mixture import GaussianMixture\n",
    "from sklearn.decomposition import PCA\n",
    "\n",
    "from mlxtend.classifier import StackingCVClassifier, StackingClassifier\n",
    "# import lightgbm\n",
    "from lightgbm import LGBMClassifier, plot_importance\n",
    "from xgboost import XGBClassifier\n",
    "from catboost import CatBoostClassifier\n",
    "\n",
    "\n",
    "from tqdm import tqdm\n",
    "\n",
    "from scipy.stats import gaussian_kde\n",
    "\n",
    "\n",
    "# Input data files are available in the \"../input/\" directory.\n",
    "# For example, running this (by clicking run or pressing Shift+Enter) will list all files under the input directory\n",
    "\n",
    "import os\n",
    "for dirname, _, filenames in os.walk('/kaggle/input'):\n",
    "    for filename in filenames:\n",
    "        print(os.path.join(dirname, filename))"
   ]
  },
  {
   "cell_type": "code",
   "execution_count": 54,
   "metadata": {},
   "outputs": [],
   "source": [
    "#import the data\n",
    "train_path='/home/ubuntu/learn-with-other-kaggle/data/train.csv'\n",
    "test_path='/home/ubuntu/learn-with-other-kaggle/data/test.csv'\n",
    "\n",
    "train_data=pd.read_csv(train_path, index_col = 'Id')\n",
    "test_data=pd.read_csv(test_path, index_col = 'Id')\n",
    "\n",
    "X = train_data.drop('Cover_Type', axis=1)\n",
    "y = train_data['Cover_Type']"
   ]
  },
  {
   "cell_type": "code",
   "execution_count": 3,
   "metadata": {},
   "outputs": [
    {
     "name": "stdout",
     "output_type": "stream",
     "text": [
      "Elevation                             False\n",
      "Aspect                                False\n",
      "Slope                                 False\n",
      "Horizontal_Distance_To_Hydrology      False\n",
      "Vertical_Distance_To_Hydrology        False\n",
      "Horizontal_Distance_To_Roadways       False\n",
      "Hillshade_9am                         False\n",
      "Hillshade_Noon                        False\n",
      "Hillshade_3pm                         False\n",
      "Horizontal_Distance_To_Fire_Points    False\n",
      "Wilderness_Area1                      False\n",
      "Wilderness_Area2                      False\n",
      "Wilderness_Area3                      False\n",
      "Wilderness_Area4                      False\n",
      "Soil_Type1                            False\n",
      "Soil_Type2                            False\n",
      "Soil_Type3                            False\n",
      "Soil_Type4                            False\n",
      "Soil_Type5                            False\n",
      "Soil_Type6                            False\n",
      "Soil_Type7                            False\n",
      "Soil_Type8                            False\n",
      "Soil_Type9                            False\n",
      "Soil_Type10                           False\n",
      "Soil_Type11                           False\n",
      "Soil_Type12                           False\n",
      "Soil_Type13                           False\n",
      "Soil_Type14                           False\n",
      "Soil_Type15                           False\n",
      "Soil_Type16                           False\n",
      "Soil_Type17                           False\n",
      "Soil_Type18                           False\n",
      "Soil_Type19                           False\n",
      "Soil_Type20                           False\n",
      "Soil_Type21                           False\n",
      "Soil_Type22                           False\n",
      "Soil_Type23                           False\n",
      "Soil_Type24                           False\n",
      "Soil_Type25                           False\n",
      "Soil_Type26                           False\n",
      "Soil_Type27                           False\n",
      "Soil_Type28                           False\n",
      "Soil_Type29                           False\n",
      "Soil_Type30                           False\n",
      "Soil_Type31                           False\n",
      "Soil_Type32                           False\n",
      "Soil_Type33                           False\n",
      "Soil_Type34                           False\n",
      "Soil_Type35                           False\n",
      "Soil_Type36                           False\n",
      "Soil_Type37                           False\n",
      "Soil_Type38                           False\n",
      "Soil_Type39                           False\n",
      "Soil_Type40                           False\n",
      "Cover_Type                            False\n",
      "dtype: bool\n",
      "Elevation                             False\n",
      "Aspect                                False\n",
      "Slope                                 False\n",
      "Horizontal_Distance_To_Hydrology      False\n",
      "Vertical_Distance_To_Hydrology        False\n",
      "Horizontal_Distance_To_Roadways       False\n",
      "Hillshade_9am                         False\n",
      "Hillshade_Noon                        False\n",
      "Hillshade_3pm                         False\n",
      "Horizontal_Distance_To_Fire_Points    False\n",
      "Wilderness_Area1                      False\n",
      "Wilderness_Area2                      False\n",
      "Wilderness_Area3                      False\n",
      "Wilderness_Area4                      False\n",
      "Soil_Type1                            False\n",
      "Soil_Type2                            False\n",
      "Soil_Type3                            False\n",
      "Soil_Type4                            False\n",
      "Soil_Type5                            False\n",
      "Soil_Type6                            False\n",
      "Soil_Type7                            False\n",
      "Soil_Type8                            False\n",
      "Soil_Type9                            False\n",
      "Soil_Type10                           False\n",
      "Soil_Type11                           False\n",
      "Soil_Type12                           False\n",
      "Soil_Type13                           False\n",
      "Soil_Type14                           False\n",
      "Soil_Type15                           False\n",
      "Soil_Type16                           False\n",
      "Soil_Type17                           False\n",
      "Soil_Type18                           False\n",
      "Soil_Type19                           False\n",
      "Soil_Type20                           False\n",
      "Soil_Type21                           False\n",
      "Soil_Type22                           False\n",
      "Soil_Type23                           False\n",
      "Soil_Type24                           False\n",
      "Soil_Type25                           False\n",
      "Soil_Type26                           False\n",
      "Soil_Type27                           False\n",
      "Soil_Type28                           False\n",
      "Soil_Type29                           False\n",
      "Soil_Type30                           False\n",
      "Soil_Type31                           False\n",
      "Soil_Type32                           False\n",
      "Soil_Type33                           False\n",
      "Soil_Type34                           False\n",
      "Soil_Type35                           False\n",
      "Soil_Type36                           False\n",
      "Soil_Type37                           False\n",
      "Soil_Type38                           False\n",
      "Soil_Type39                           False\n",
      "Soil_Type40                           False\n",
      "dtype: bool\n"
     ]
    }
   ],
   "source": [
    "# no missing data\n",
    "print(train_data.isnull().any())\n",
    "print(test_data.isnull().any())"
   ]
  },
  {
   "cell_type": "code",
   "execution_count": 4,
   "metadata": {},
   "outputs": [
    {
     "data": {
      "text/plain": [
       "RandomForestClassifier(bootstrap=True, class_weight=None, criterion='gini',\n",
       "                       max_depth=None, max_features='auto', max_leaf_nodes=None,\n",
       "                       min_impurity_decrease=0.0, min_impurity_split=None,\n",
       "                       min_samples_leaf=1, min_samples_split=2,\n",
       "                       min_weight_fraction_leaf=0.0, n_estimators=100,\n",
       "                       n_jobs=None, oob_score=False, random_state=None,\n",
       "                       verbose=0, warm_start=False)"
      ]
     },
     "execution_count": 4,
     "metadata": {},
     "output_type": "execute_result"
    }
   ],
   "source": [
    "# helper function to use\n",
    "rfc = RandomForestClassifier(n_estimators=100)\n",
    "rfc.fit(X_train,y_train)"
   ]
  },
  {
   "cell_type": "code",
   "execution_count": 46,
   "metadata": {},
   "outputs": [],
   "source": [
    "# the function used to check the feature importance\n",
    "def importance_check(clf, X, y):\n",
    "    cols_ = X.columns.values\n",
    "    clf.fit(X,y)\n",
    "    imp_df = pd.DataFrame({\"feature\":cols_,\"imp\":clf.feature_importances_})\n",
    "    imp_df.sort_values(by='imp',ascending=False,inplace=True)\n",
    "    plt.figure(figsize=(15,12))\n",
    "    plt.xticks(rotation='vertical')\n",
    "    sns.barplot(x=imp_df['feature'], y=imp_df['imp'])\n",
    "    return imp_df"
   ]
  },
  {
   "cell_type": "code",
   "execution_count": 9,
   "metadata": {},
   "outputs": [],
   "source": [
    "# the cv check for the model\n",
    "def cv_check(clf, X,y,cv=5):\n",
    "    scores = cross_val_score(clf,X,y, cv=cv)\n",
    "    print(\"mean %f, std %f\"%(scores.mean(),scores.std()))\n",
    "    return scores.mean(), scores.std"
   ]
  },
  {
   "cell_type": "code",
   "execution_count": 18,
   "metadata": {},
   "outputs": [],
   "source": [
    "def confusion_matrix_check(clf, X,y,fig_w = 10, fig_h = 8):\n",
    "    pred = cross_val_predict(clf, X,y,cv = 3, n_jobs = -1)\n",
    "    conf_max = confusion_matrix(y,pred)\n",
    "    classes = sorted(y.unique().tolist())\n",
    "    \n",
    "    plt.figure(figsize=(fig_w,fig_h))\n",
    "    ax = sns.heatmap(conf_max,cmap='BuPu',annot=True,fmt='d',xticklabels = classes, yticklabels=classes)\n",
    "    ax.set(xlabel='Predicted Class', ylabel='True Class', title='Confuse Matrix')\n",
    "    ax.set_ylim(7,0)"
   ]
  },
  {
   "cell_type": "code",
   "execution_count": 16,
   "metadata": {},
   "outputs": [],
   "source": [
    "def show_feature_correl(X, num_cols = None):\n",
    "    if num_cols is not None:\n",
    "        numericals = num_cols\n",
    "    else:    \n",
    "        numericals = [col for col in X.columns if \n",
    "                  'Soil_Type' not in col and \n",
    "                  'Wilderness_Area' not in col]\n",
    "        numericals = sorted(numericals)\n",
    "    plt.figure(figsize=(10,10))\n",
    "    ax = sns.heatmap(X[numericals].corr().abs(),annot=True, linewidths=1, square=True, \n",
    "                cmap='BuPu')\n",
    "    ax.set_ylim(10,0)"
   ]
  },
  {
   "cell_type": "code",
   "execution_count": 33,
   "metadata": {},
   "outputs": [],
   "source": [
    "def drop_unimportance_features(X_, threshold=0.99):\n",
    "    feat_list = X_.columns\n",
    "    not_import_feature = []\n",
    "    \n",
    "    for f in feat_list:\n",
    "        c = X_[f].value_counts().iat[0]/X_.shape[0]\n",
    "        \n",
    "        if c > threshold:\n",
    "            not_import_feature.append(f)\n",
    "    result = X_.drop(not_import_feature, axis=1)\n",
    "    return not_import_feature, result"
   ]
  },
  {
   "cell_type": "code",
   "execution_count": 45,
   "metadata": {},
   "outputs": [
    {
     "name": "stdout",
     "output_type": "stream",
     "text": [
      "['Elevation', 'Horizontal_Distance_To_Roadways', 'Horizontal_Distance_To_Fire_Points', 'Horizontal_Distance_To_Hydrology', 'Vertical_Distance_To_Hydrology', 'Aspect', 'Hillshade_9am', 'Hillshade_3pm', 'Hillshade_Noon', 'Wilderness_Area4', 'Slope', 'Soil_Type3', 'Soil_Type39', 'Soil_Type38', 'Soil_Type10', 'Wilderness_Area1', 'Wilderness_Area3', 'Soil_Type4', 'Soil_Type40', 'Soil_Type30', 'Soil_Type13', 'Soil_Type17', 'Soil_Type2', 'Soil_Type29', 'Soil_Type22', 'Soil_Type23', 'Soil_Type32', 'Wilderness_Area2', 'Soil_Type12', 'Soil_Type33', 'Soil_Type11', 'Soil_Type35', 'Soil_Type6', 'Soil_Type31', 'Soil_Type24', 'Soil_Type1', 'Soil_Type20', 'Soil_Type5', 'Soil_Type16', 'Soil_Type14', 'Soil_Type37', 'Soil_Type18', 'Soil_Type26', 'Soil_Type19', 'Soil_Type34', 'Soil_Type27', 'Soil_Type28', 'Soil_Type21', 'Soil_Type36', 'Soil_Type9', 'Soil_Type25', 'Soil_Type8', 'Soil_Type15', 'Soil_Type7']\n"
     ]
    }
   ],
   "source": [
    "print(test)"
   ]
  },
  {
   "cell_type": "code",
   "execution_count": 47,
   "metadata": {},
   "outputs": [],
   "source": [
    "# feature engineer to do\n",
    "def add_features(X_):\n",
    "    X = X_.copy()\n",
    "    \n",
    "    X['Hydro_Elevation_sum'] = X[['Elevation',\n",
    "                                  'Vertical_Distance_To_Hydrology']\n",
    "                                 ].sum(axis='columns')\n",
    "    \n",
    "    X['Hydro_Elevation_diff'] = X[['Elevation',\n",
    "                                   'Vertical_Distance_To_Hydrology']\n",
    "                                  ].diff(axis='columns').iloc[:, [1]]\n",
    "\n",
    "    X['Hydro_Euclidean'] = np.sqrt(X['Horizontal_Distance_To_Hydrology']**2 +\n",
    "                                   X['Vertical_Distance_To_Hydrology']**2)\n",
    "\n",
    "    X['Hydro_Manhattan'] = (X['Horizontal_Distance_To_Hydrology'] +\n",
    "                            X['Vertical_Distance_To_Hydrology'].abs())\n",
    "    \n",
    "    \n",
    "    X['Hydro_Distance_sum'] = X[['Horizontal_Distance_To_Hydrology',\n",
    "                                 'Vertical_Distance_To_Hydrology']\n",
    "                                ].sum(axis='columns')\n",
    "\n",
    "    X['Hydro_Distance_diff'] = X[['Horizontal_Distance_To_Hydrology',\n",
    "                                  'Vertical_Distance_To_Hydrology']\n",
    "                                 ].diff(axis='columns').iloc[:, [1]]\n",
    "    \n",
    "    X['Hydro_Fire_sum'] = X[['Horizontal_Distance_To_Hydrology',\n",
    "                             'Horizontal_Distance_To_Fire_Points']\n",
    "                            ].sum(axis='columns')\n",
    "\n",
    "    X['Hydro_Fire_diff'] = X[['Horizontal_Distance_To_Hydrology',\n",
    "                              'Horizontal_Distance_To_Fire_Points']\n",
    "                             ].diff(axis='columns').iloc[:, [1]].abs()\n",
    "\n",
    "    X['Hydro_Fire_mean'] = X[['Horizontal_Distance_To_Hydrology',\n",
    "                              'Horizontal_Distance_To_Fire_Points']\n",
    "                             ].mean(axis='columns')\n",
    "\n",
    "    X['Hydro_Fire_median'] = X[['Horizontal_Distance_To_Hydrology',\n",
    "                                'Horizontal_Distance_To_Fire_Points']\n",
    "                               ].median(axis='columns')\n",
    "                               \n",
    "    X['Hydro_Road_sum'] = X[['Horizontal_Distance_To_Hydrology',\n",
    "                             'Horizontal_Distance_To_Roadways']\n",
    "                            ].sum(axis='columns')\n",
    "\n",
    "    X['Hydro_Road_diff'] = X[['Horizontal_Distance_To_Hydrology',\n",
    "                              'Horizontal_Distance_To_Roadways']\n",
    "                             ].diff(axis='columns').iloc[:, [1]].abs()\n",
    "\n",
    "    X['Hydro_Road_mean'] = X[['Horizontal_Distance_To_Hydrology',\n",
    "                              'Horizontal_Distance_To_Roadways']\n",
    "                             ].mean(axis='columns')\n",
    "\n",
    "    X['Hydro_Road_median'] = X[['Horizontal_Distance_To_Hydrology',\n",
    "                                'Horizontal_Distance_To_Roadways']\n",
    "                               ].median(axis='columns')\n",
    "    \n",
    "    X['Road_Fire_sum'] = X[['Horizontal_Distance_To_Roadways',\n",
    "                            'Horizontal_Distance_To_Fire_Points']\n",
    "                           ].sum(axis='columns')\n",
    "\n",
    "    X['Road_Fire_diff'] = X[['Horizontal_Distance_To_Roadways',\n",
    "                             'Horizontal_Distance_To_Fire_Points']\n",
    "                            ].diff(axis='columns').iloc[:, [1]].abs()\n",
    "\n",
    "    X['Road_Fire_mean'] = X[['Horizontal_Distance_To_Roadways',\n",
    "                             'Horizontal_Distance_To_Fire_Points']\n",
    "                            ].mean(axis='columns')\n",
    "\n",
    "    X['Road_Fire_median'] = X[['Horizontal_Distance_To_Roadways',\n",
    "                               'Horizontal_Distance_To_Fire_Points']\n",
    "                              ].median(axis='columns')\n",
    "    \n",
    "    X['Hydro_Road_Fire_mean'] = X[['Horizontal_Distance_To_Hydrology',\n",
    "                                   'Horizontal_Distance_To_Roadways',\n",
    "                                   'Horizontal_Distance_To_Fire_Points']\n",
    "                                  ].mean(axis='columns')\n",
    "\n",
    "    X['Hydro_Road_Fire_median'] = X[['Horizontal_Distance_To_Hydrology',\n",
    "                                     'Horizontal_Distance_To_Roadways',\n",
    "                                     'Horizontal_Distance_To_Fire_Points']\n",
    "                                    ].median(axis='columns')\n",
    "\n",
    "    X['Hillshade_sum'] = X[['Hillshade_9am',\n",
    "                            'Hillshade_Noon',\n",
    "                            'Hillshade_3pm']\n",
    "                           ].sum(axis='columns')\n",
    "\n",
    "    X['Hillshade_mean'] = X[['Hillshade_9am',\n",
    "                             'Hillshade_Noon',\n",
    "                             'Hillshade_3pm']\n",
    "                            ].mean(axis='columns')\n",
    "\n",
    "    X['Hillshade_median'] = X[['Hillshade_9am',\n",
    "                               'Hillshade_Noon',\n",
    "                               'Hillshade_3pm']\n",
    "                              ].median(axis='columns')\n",
    "\n",
    "    X['Hillshade_min'] = X[['Hillshade_9am',\n",
    "                            'Hillshade_Noon',\n",
    "                            'Hillshade_3pm']\n",
    "                           ].min(axis='columns')\n",
    "\n",
    "    X['Hillshade_max'] = X[['Hillshade_9am',\n",
    "                            'Hillshade_Noon',\n",
    "                            'Hillshade_3pm']\n",
    "                           ].max(axis='columns')\n",
    "        \n",
    "    # Compute Soil_Type number from Soil_Type binary columns\n",
    "    X['Stoneyness'] = sum(i * X['Soil_Type{}'.format(i)] for i in range(1, 41))\n",
    "    \n",
    "    # For all 40 Soil_Types, 1=rubbly, 2=stony, 3=very stony, 4=extremely stony, 0=?\n",
    "    stoneyness = [4, 3, 1, 1, 1, 2, 0, 0, 3, 1, \n",
    "                  1, 2, 1, 0, 0, 0, 0, 3, 0, 0, \n",
    "                  0, 4, 0, 4, 4, 3, 4, 4, 4, 4, \n",
    "                  4, 4, 4, 4, 1, 4, 4, 4, 4, 4]\n",
    "    \n",
    "    # Replace Soil_Type number with \"stoneyness\" value\n",
    "    X['Stoneyness'] = X['Stoneyness'].replace(range(1, 41), stoneyness)\n",
    "\n",
    "    return X"
   ]
  },
  {
   "cell_type": "code",
   "execution_count": 58,
   "metadata": {},
   "outputs": [],
   "source": [
    "X_add_fea = add_features(X)\n",
    "test_data_add_fea = add_features(test_data)\n",
    "total_data = pd.concat([X_add_fea,test_data_add_fea])"
   ]
  },
  {
   "cell_type": "code",
   "execution_count": 59,
   "metadata": {},
   "outputs": [
    {
     "name": "stdout",
     "output_type": "stream",
     "text": [
      "mean 0.781746, std 0.039676\n"
     ]
    },
    {
     "data": {
      "text/plain": [
       "(0.7817460317460319, <function ndarray.std>)"
      ]
     },
     "execution_count": 59,
     "metadata": {},
     "output_type": "execute_result"
    },
    {
     "data": {
      "image/png": "[encoded data removed]",
      "text/plain": [
       "<Figure size 1080x864 with 1 Axes>"
      ]
     },
     "metadata": {
      "needs_background": "light"
     },
     "output_type": "display_data"
    }
   ],
   "source": [
    "importance_check(rfc, X, y)\n",
    "cv_check(rfc, X, y, cv = 5)"
   ]
  },
  {
   "cell_type": "code",
   "execution_count": 57,
   "metadata": {},
   "outputs": [
    {
     "name": "stdout",
     "output_type": "stream",
     "text": [
      "mean 0.803505, std 0.031663\n"
     ]
    },
    {
     "data": {
      "text/plain": [
       "(0.803505291005291, <function ndarray.std>)"
      ]
     },
     "execution_count": 57,
     "metadata": {},
     "output_type": "execute_result"
    },
    {
     "data": {
      "image/png": "[encoded data removed]",
      "text/plain": [
       "<Figure size 1080x864 with 1 Axes>"
      ]
     },
     "metadata": {
      "needs_background": "light"
     },
     "output_type": "display_data"
    }
   ],
   "source": [
    "importance_check(rfc, X_add_fea, y)\n",
    "cv_check(rfc, X_add_fea, y, cv = 5)"
   ]
  },
  {
   "cell_type": "code",
   "execution_count": 70,
   "metadata": {},
   "outputs": [],
   "source": [
    "feats, drop_imp_df = drop_unimportance_features(total_data)"
   ]
  },
  {
   "cell_type": "code",
   "execution_count": 68,
   "metadata": {},
   "outputs": [],
   "source": [
    "X_drop_fea = drop_imp_df[drop_imp_df.index < 15121]\n",
    "test_drop_fea = drop_imp_df[drop_imp_df.index >= 15121]"
   ]
  },
  {
   "cell_type": "code",
   "execution_count": 72,
   "metadata": {},
   "outputs": [
    {
     "name": "stdout",
     "output_type": "stream",
     "text": [
      "mean 0.805688, std 0.033363\n"
     ]
    },
    {
     "data": {
      "text/plain": [
       "(0.8056878306878307, <function ndarray.std>)"
      ]
     },
     "execution_count": 72,
     "metadata": {},
     "output_type": "execute_result"
    }
   ],
   "source": [
    "cv_check(rfc, X_drop_fea, y, cv = 5)"
   ]
  },
  {
   "cell_type": "code",
   "execution_count": null,
   "metadata": {},
   "outputs": [],
   "source": []
  }
 ],
 "metadata": {
  "kernelspec": {
   "display_name": "Environment (conda_py36_sklearn)",
   "language": "python",
   "name": "conda_py36_sklearn"
  },
  "language_info": {
   "codemirror_mode": {
    "name": "ipython",
    "version": 3
   },
   "file_extension": ".py",
   "mimetype": "text/x-python",
   "name": "python",
   "nbconvert_exporter": "python",
   "pygments_lexer": "ipython3",
   "version": "3.6.9"
  }
 },
 "nbformat": 4,
 "nbformat_minor": 2
}
