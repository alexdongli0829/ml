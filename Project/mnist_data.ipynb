{
 "cells": [
  {
   "cell_type": "code",
   "execution_count": 1,
   "metadata": {},
   "outputs": [],
   "source": [
    "#mnist test\n",
    "\n",
    "#https://www.kaggle.com/c/digit-recognizer/data"
   ]
  },
  {
   "cell_type": "code",
   "execution_count": 1,
   "metadata": {},
   "outputs": [],
   "source": [
    "import pandas as pd\n",
    "import numpy as np"
   ]
  },
  {
   "cell_type": "code",
   "execution_count": 2,
   "metadata": {},
   "outputs": [],
   "source": [
    "train_data = pd.read_csv(\"../../mnist_data/train.csv\")\n",
    "test_data = pd.read_csv(\"../../mnist_data/test.csv\")"
   ]
  },
  {
   "cell_type": "code",
   "execution_count": 3,
   "metadata": {},
   "outputs": [],
   "source": [
    "X = train_data.drop('label',axis=1)\n",
    "y = train_data['label']"
   ]
  },
  {
   "cell_type": "code",
   "execution_count": 4,
   "metadata": {},
   "outputs": [
    {
     "data": {
      "text/html": [
       "<div>\n",
       "<style scoped>\n",
       "    .dataframe tbody tr th:only-of-type {\n",
       "        vertical-align: middle;\n",
       "    }\n",
       "\n",
       "    .dataframe tbody tr th {\n",
       "        vertical-align: top;\n",
       "    }\n",
       "\n",
       "    .dataframe thead th {\n",
       "        text-align: right;\n",
       "    }\n",
       "</style>\n",
       "<table border=\"1\" class=\"dataframe\">\n",
       "  <thead>\n",
       "    <tr style=\"text-align: right;\">\n",
       "      <th></th>\n",
       "      <th>pixel0</th>\n",
       "      <th>pixel1</th>\n",
       "      <th>pixel2</th>\n",
       "      <th>pixel3</th>\n",
       "      <th>pixel4</th>\n",
       "      <th>pixel5</th>\n",
       "      <th>pixel6</th>\n",
       "      <th>pixel7</th>\n",
       "      <th>pixel8</th>\n",
       "      <th>pixel9</th>\n",
       "      <th>...</th>\n",
       "      <th>pixel774</th>\n",
       "      <th>pixel775</th>\n",
       "      <th>pixel776</th>\n",
       "      <th>pixel777</th>\n",
       "      <th>pixel778</th>\n",
       "      <th>pixel779</th>\n",
       "      <th>pixel780</th>\n",
       "      <th>pixel781</th>\n",
       "      <th>pixel782</th>\n",
       "      <th>pixel783</th>\n",
       "    </tr>\n",
       "  </thead>\n",
       "  <tbody>\n",
       "    <tr>\n",
       "      <th>0</th>\n",
       "      <td>0</td>\n",
       "      <td>0</td>\n",
       "      <td>0</td>\n",
       "      <td>0</td>\n",
       "      <td>0</td>\n",
       "      <td>0</td>\n",
       "      <td>0</td>\n",
       "      <td>0</td>\n",
       "      <td>0</td>\n",
       "      <td>0</td>\n",
       "      <td>...</td>\n",
       "      <td>0</td>\n",
       "      <td>0</td>\n",
       "      <td>0</td>\n",
       "      <td>0</td>\n",
       "      <td>0</td>\n",
       "      <td>0</td>\n",
       "      <td>0</td>\n",
       "      <td>0</td>\n",
       "      <td>0</td>\n",
       "      <td>0</td>\n",
       "    </tr>\n",
       "    <tr>\n",
       "      <th>1</th>\n",
       "      <td>0</td>\n",
       "      <td>0</td>\n",
       "      <td>0</td>\n",
       "      <td>0</td>\n",
       "      <td>0</td>\n",
       "      <td>0</td>\n",
       "      <td>0</td>\n",
       "      <td>0</td>\n",
       "      <td>0</td>\n",
       "      <td>0</td>\n",
       "      <td>...</td>\n",
       "      <td>0</td>\n",
       "      <td>0</td>\n",
       "      <td>0</td>\n",
       "      <td>0</td>\n",
       "      <td>0</td>\n",
       "      <td>0</td>\n",
       "      <td>0</td>\n",
       "      <td>0</td>\n",
       "      <td>0</td>\n",
       "      <td>0</td>\n",
       "    </tr>\n",
       "    <tr>\n",
       "      <th>2</th>\n",
       "      <td>0</td>\n",
       "      <td>0</td>\n",
       "      <td>0</td>\n",
       "      <td>0</td>\n",
       "      <td>0</td>\n",
       "      <td>0</td>\n",
       "      <td>0</td>\n",
       "      <td>0</td>\n",
       "      <td>0</td>\n",
       "      <td>0</td>\n",
       "      <td>...</td>\n",
       "      <td>0</td>\n",
       "      <td>0</td>\n",
       "      <td>0</td>\n",
       "      <td>0</td>\n",
       "      <td>0</td>\n",
       "      <td>0</td>\n",
       "      <td>0</td>\n",
       "      <td>0</td>\n",
       "      <td>0</td>\n",
       "      <td>0</td>\n",
       "    </tr>\n",
       "    <tr>\n",
       "      <th>3</th>\n",
       "      <td>0</td>\n",
       "      <td>0</td>\n",
       "      <td>0</td>\n",
       "      <td>0</td>\n",
       "      <td>0</td>\n",
       "      <td>0</td>\n",
       "      <td>0</td>\n",
       "      <td>0</td>\n",
       "      <td>0</td>\n",
       "      <td>0</td>\n",
       "      <td>...</td>\n",
       "      <td>0</td>\n",
       "      <td>0</td>\n",
       "      <td>0</td>\n",
       "      <td>0</td>\n",
       "      <td>0</td>\n",
       "      <td>0</td>\n",
       "      <td>0</td>\n",
       "      <td>0</td>\n",
       "      <td>0</td>\n",
       "      <td>0</td>\n",
       "    </tr>\n",
       "    <tr>\n",
       "      <th>4</th>\n",
       "      <td>0</td>\n",
       "      <td>0</td>\n",
       "      <td>0</td>\n",
       "      <td>0</td>\n",
       "      <td>0</td>\n",
       "      <td>0</td>\n",
       "      <td>0</td>\n",
       "      <td>0</td>\n",
       "      <td>0</td>\n",
       "      <td>0</td>\n",
       "      <td>...</td>\n",
       "      <td>0</td>\n",
       "      <td>0</td>\n",
       "      <td>0</td>\n",
       "      <td>0</td>\n",
       "      <td>0</td>\n",
       "      <td>0</td>\n",
       "      <td>0</td>\n",
       "      <td>0</td>\n",
       "      <td>0</td>\n",
       "      <td>0</td>\n",
       "    </tr>\n",
       "  </tbody>\n",
       "</table>\n",
       "<p>5 rows × 784 columns</p>\n",
       "</div>"
      ],
      "text/plain": [
       "   pixel0  pixel1  pixel2  pixel3  pixel4  pixel5  pixel6  pixel7  pixel8  \\\n",
       "0       0       0       0       0       0       0       0       0       0   \n",
       "1       0       0       0       0       0       0       0       0       0   \n",
       "2       0       0       0       0       0       0       0       0       0   \n",
       "3       0       0       0       0       0       0       0       0       0   \n",
       "4       0       0       0       0       0       0       0       0       0   \n",
       "\n",
       "   pixel9    ...     pixel774  pixel775  pixel776  pixel777  pixel778  \\\n",
       "0       0    ...            0         0         0         0         0   \n",
       "1       0    ...            0         0         0         0         0   \n",
       "2       0    ...            0         0         0         0         0   \n",
       "3       0    ...            0         0         0         0         0   \n",
       "4       0    ...            0         0         0         0         0   \n",
       "\n",
       "   pixel779  pixel780  pixel781  pixel782  pixel783  \n",
       "0         0         0         0         0         0  \n",
       "1         0         0         0         0         0  \n",
       "2         0         0         0         0         0  \n",
       "3         0         0         0         0         0  \n",
       "4         0         0         0         0         0  \n",
       "\n",
       "[5 rows x 784 columns]"
      ]
     },
     "execution_count": 4,
     "metadata": {},
     "output_type": "execute_result"
    }
   ],
   "source": [
    "X.head()"
   ]
  },
  {
   "cell_type": "code",
   "execution_count": 5,
   "metadata": {},
   "outputs": [
    {
     "data": {
      "text/plain": [
       "<Figure size 640x480 with 9 Axes>"
      ]
     },
     "metadata": {},
     "output_type": "display_data"
    }
   ],
   "source": [
    "import matplotlib.pyplot as plt\n",
    "\n",
    "\n",
    "for f in range(0,9):\n",
    "    plt.subplot(331+f)\n",
    "    a = X.iloc[f,:].values.reshape(28,28)\n",
    "    plt.imshow(a,cmap=plt.get_cmap('gray'))\n",
    "    plt.title(y[f])\n",
    "    plt.xticks([])\n",
    "    plt.yticks([])\n",
    "plt.show()"
   ]
  },
  {
   "cell_type": "code",
   "execution_count": 6,
   "metadata": {},
   "outputs": [
    {
     "data": {
      "text/plain": [
       "1    4684\n",
       "7    4401\n",
       "3    4351\n",
       "9    4188\n",
       "2    4177\n",
       "6    4137\n",
       "0    4132\n",
       "4    4072\n",
       "8    4063\n",
       "5    3795\n",
       "Name: label, dtype: int64"
      ]
     },
     "execution_count": 6,
     "metadata": {},
     "output_type": "execute_result"
    }
   ],
   "source": [
    "y.value_counts() #balance"
   ]
  },
  {
   "cell_type": "code",
   "execution_count": 7,
   "metadata": {},
   "outputs": [],
   "source": [
    "from sklearn.ensemble import RandomForestClassifier, AdaBoostClassifier\n",
    "from sklearn.model_selection import train_test_split, GridSearchCV\n",
    "from sklearn.metrics import mean_absolute_error, confusion_matrix\n",
    "from sklearn.feature_selection import SelectFromModel"
   ]
  },
  {
   "cell_type": "code",
   "execution_count": 9,
   "metadata": {},
   "outputs": [],
   "source": [
    "x_train, x_valid,y_train, y_valid = train_test_split(X, y, test_size=0.1)\n"
   ]
  },
  {
   "cell_type": "code",
   "execution_count": 11,
   "metadata": {},
   "outputs": [],
   "source": [
    "rfc = RandomForestClassifier(n_estimators = 100)\n",
    "rfc.fit(x_train, y_train)\n",
    "y_predict=rfc.predict(x_valid)\n",
    "mae = mean_absolute_error(y_valid, y_predict)"
   ]
  },
  {
   "cell_type": "code",
   "execution_count": 12,
   "metadata": {},
   "outputs": [
    {
     "name": "stdout",
     "output_type": "stream",
     "text": [
      "0.13\n"
     ]
    }
   ],
   "source": [
    "print(mae)"
   ]
  },
  {
   "cell_type": "code",
   "execution_count": 13,
   "metadata": {},
   "outputs": [],
   "source": [
    "import seaborn as sns"
   ]
  },
  {
   "cell_type": "code",
   "execution_count": 14,
   "metadata": {},
   "outputs": [
    {
     "data": {
      "text/plain": [
       "<matplotlib.axes._subplots.AxesSubplot at 0x7fa0ddcd3390>"
      ]
     },
     "execution_count": 14,
     "metadata": {},
     "output_type": "execute_result"
    },
    {
     "data": {
      "image/png": "[encoded data removed]",
      "text/plain": [
       "<Figure size 432x288 with 2 Axes>"
      ]
     },
     "metadata": {},
     "output_type": "display_data"
    }
   ],
   "source": [
    "sns.heatmap(confusion_matrix(y_valid, y_predict),annot=True)"
   ]
  },
  {
   "cell_type": "code",
   "execution_count": 8,
   "metadata": {},
   "outputs": [
    {
     "ename": "NameError",
     "evalue": "name 'x_train' is not defined",
     "output_type": "error",
     "traceback": [
      "\u001b[0;31m---------------------------------------------------------------------------\u001b[0m",
      "\u001b[0;31mNameError\u001b[0m                                 Traceback (most recent call last)",
      "\u001b[0;32m<ipython-input-8-15466cb1bf60>\u001b[0m in \u001b[0;36m<module>\u001b[0;34m()\u001b[0m\n\u001b[1;32m      5\u001b[0m \u001b[0;34m\u001b[0m\u001b[0m\n\u001b[1;32m      6\u001b[0m \u001b[0;34m\u001b[0m\u001b[0m\n\u001b[0;32m----> 7\u001b[0;31m \u001b[0mx_train_pic\u001b[0m \u001b[0;34m=\u001b[0m \u001b[0mx_train\u001b[0m\u001b[0;34m.\u001b[0m\u001b[0mvalues\u001b[0m\u001b[0;34m.\u001b[0m\u001b[0mreshape\u001b[0m\u001b[0;34m(\u001b[0m\u001b[0;34m-\u001b[0m\u001b[0;36m1\u001b[0m\u001b[0;34m,\u001b[0m\u001b[0;36m28\u001b[0m\u001b[0;34m,\u001b[0m\u001b[0;36m28\u001b[0m\u001b[0;34m,\u001b[0m\u001b[0;36m1\u001b[0m\u001b[0;34m)\u001b[0m\u001b[0;34m\u001b[0m\u001b[0m\n\u001b[0m\u001b[1;32m      8\u001b[0m \u001b[0mx_valid_pic\u001b[0m \u001b[0;34m=\u001b[0m \u001b[0mx_valid\u001b[0m\u001b[0;34m.\u001b[0m\u001b[0mvalues\u001b[0m\u001b[0;34m.\u001b[0m\u001b[0mreshape\u001b[0m\u001b[0;34m(\u001b[0m\u001b[0;34m-\u001b[0m\u001b[0;36m1\u001b[0m\u001b[0;34m,\u001b[0m\u001b[0;36m28\u001b[0m\u001b[0;34m,\u001b[0m\u001b[0;36m28\u001b[0m\u001b[0;34m,\u001b[0m\u001b[0;36m1\u001b[0m\u001b[0;34m)\u001b[0m\u001b[0;34m\u001b[0m\u001b[0m\n\u001b[1;32m      9\u001b[0m \u001b[0mtrain_dataset\u001b[0m \u001b[0;34m=\u001b[0m \u001b[0mgdata\u001b[0m\u001b[0;34m.\u001b[0m\u001b[0mdataset\u001b[0m\u001b[0;34m.\u001b[0m\u001b[0mArrayDataset\u001b[0m\u001b[0;34m(\u001b[0m\u001b[0mnd\u001b[0m\u001b[0;34m.\u001b[0m\u001b[0marray\u001b[0m\u001b[0;34m(\u001b[0m\u001b[0mx_train_pic\u001b[0m\u001b[0;34m)\u001b[0m\u001b[0;34m,\u001b[0m \u001b[0mnd\u001b[0m\u001b[0;34m.\u001b[0m\u001b[0marray\u001b[0m\u001b[0;34m(\u001b[0m\u001b[0my_train\u001b[0m\u001b[0;34m.\u001b[0m\u001b[0mvalues\u001b[0m\u001b[0;34m)\u001b[0m\u001b[0;34m)\u001b[0m\u001b[0;34m\u001b[0m\u001b[0m\n",
      "\u001b[0;31mNameError\u001b[0m: name 'x_train' is not defined"
     ]
    }
   ],
   "source": [
    "from mxnet import autograd, gluon, init, nd\n",
    "from mxnet.gluon import data as gdata, loss as gloss, model_zoo, nn\n",
    "import mxnet as mx\n",
    "import datetime\n",
    "\n",
    "\n",
    "x_train_pic = x_train.values.reshape(-1,28,28,1)\n",
    "x_valid_pic = x_valid.values.reshape(-1,28,28,1)\n",
    "train_dataset = gdata.dataset.ArrayDataset(nd.array(x_train_pic), nd.array(y_train.values))\n",
    "valid_dataset = gdata.dataset.ArrayDataset(nd.array(x_valid_pic), nd.array(y_valid.values))\n"
   ]
  },
  {
   "cell_type": "code",
   "execution_count": 140,
   "metadata": {},
   "outputs": [],
   "source": [
    "def get_net(ctx):\n",
    "    finetune_net= model_zoo.vision.resnet18_v1()\n",
    "    finetune_net.output = nn.Dense(10)\n",
    "    # need to put the parameters on to model cpu or gpu()\n",
    "    #finetune_net.features.initialize(init.Xavier(), ctx=ctx)\n",
    "    #finetune_net.collect_params().reset_ctx(ctx)\n",
    "    return finetune_net"
   ]
  },
  {
   "cell_type": "code",
   "execution_count": 158,
   "metadata": {},
   "outputs": [],
   "source": [
    "#If sparse_label is True (default), label should contain integer category indicators:\n",
    "loss = gloss.SoftmaxCrossEntropyLoss()\n",
    "\n",
    "# Use the get_loss to get the loss for the valid data, can not use the net(X) directly because we will not use the\n",
    "# old output layer\n",
    "def get_loss(data, net, ctx):\n",
    "    l=0\n",
    "    for X, y in data:\n",
    "        output=net(X.as_in_context(ctx))\n",
    "        l += loss(output, y.as_in_context(ctx)).mean().asscalar()\n",
    "    return l/len(data)"
   ]
  },
  {
   "cell_type": "code",
   "execution_count": 159,
   "metadata": {},
   "outputs": [],
   "source": [
    "#image transformation, resize, crop, flip and nomorlize\n",
    "transform_train = gdata.vision.transforms.Compose([\n",
    "    gdata.vision.transforms.Resize(40),\n",
    "    gdata.vision.transforms.RandomResizedCrop(32, scale=(0.64,1), ratio = (1.0,1.0)),\n",
    "    gdata.vision.transforms.RandomFlipLeftRight(),\n",
    "    #for ToTensor, check this: https://pytorch.org/docs/0.2.0/_modules/torchvision/transforms.html#ToTensor\n",
    "    gdata.vision.transforms.ToTensor(),\n",
    "    gdata.vision.transforms.Normalize([0.4914],\n",
    "                                      [0.2023])\n",
    "])\n"
   ]
  },
  {
   "cell_type": "code",
   "execution_count": 160,
   "metadata": {},
   "outputs": [],
   "source": [
    "def train(net, train_set, valid_set, lr, wd, num_epochs, lr_decay,lr_period, batch_size, ctx):\n",
    "    trainer = gluon.Trainer(net.collect_params(),'sgd', {'learning_rate':lr, 'momentum':0.9, 'wd': wd})\n",
    "    previous_time=datetime.datetime.now()\n",
    "    \n",
    "    train_data = gdata.DataLoader(train_set.transform_first(transform_train), batch_size=batch_size)\n",
    "    valid_data = gdata.DataLoader(valid_set.transform_first(transform_train), batch_size=batch_size)\n",
    "\n",
    "    for epoch in range(num_epochs):\n",
    "        train_l = 0\n",
    "        if epoch > 0 and epoch%lr_period == 0:\n",
    "            trainer.set_learning_rate(trainer.learning_rate*lr_decay)\n",
    "        for X, y in train_data:\n",
    "            #print(X.shape)\n",
    "            with autograd.record():\n",
    "                output = net(X.as_in_context(ctx))\n",
    "                #l = loss(output,y.astype('float32').as_in_context(ctx))\n",
    "                l = loss(output,y.as_in_context(ctx))\n",
    "\n",
    "            l.backward()\n",
    "            #print(l)\n",
    "            train_l += l.mean().asscalar()\n",
    "            trainer.step(batch_size)\n",
    "            \n",
    "        current_time=datetime.datetime.now()\n",
    "        \n",
    "        h,reminder=divmod((current_time-previous_time).seconds, 3600)\n",
    "        m,s = divmod(reminder, 60)\n",
    "        time_s = \"time: %02d:%02d:%02d\" %(h,m,s)\n",
    "        print(time_s)\n",
    "        #print(train_l)\n",
    "        if epoch % 1 == 0:\n",
    "            if valid_data is not None:  \n",
    "                print(\"epoch %d, train_loss %f, valid_loss %f, learning_rate %f, time %s\"%\n",
    "                      (epoch, train_l/len(train_data), get_loss(valid_data, net, ctx), \n",
    "                      trainer.learning_rate, time_s))\n",
    "            else:\n",
    "                print(\"epoch %d, train_loss %f, learning_rate %f, time %s\"%\n",
    "                      (epoch, train_l/len(train_data),trainer.learning_rate,time_s))"
   ]
  },
  {
   "cell_type": "code",
   "execution_count": null,
   "metadata": {},
   "outputs": [
    {
     "name": "stdout",
     "output_type": "stream",
     "text": [
      "time: 00:01:08\n",
      "epoch 0, train_loss 0.585165, valid_loss 0.211504, learning_rate 0.000100, time time: 00:01:08\n",
      "time: 00:02:20\n",
      "epoch 1, train_loss 0.241705, valid_loss 0.144605, learning_rate 0.000100, time time: 00:02:20\n",
      "time: 00:03:32\n",
      "epoch 2, train_loss 0.177874, valid_loss 0.117182, learning_rate 0.000100, time time: 00:03:32\n",
      "time: 00:04:43\n",
      "epoch 3, train_loss 0.146303, valid_loss 0.101100, learning_rate 0.000100, time time: 00:04:43\n",
      "time: 00:05:55\n",
      "epoch 4, train_loss 0.121864, valid_loss 0.095863, learning_rate 0.000100, time time: 00:05:55\n",
      "time: 00:07:07\n",
      "epoch 5, train_loss 0.106701, valid_loss 0.094851, learning_rate 0.000100, time time: 00:07:07\n",
      "time: 00:08:19\n",
      "epoch 6, train_loss 0.096321, valid_loss 0.077087, learning_rate 0.000100, time time: 00:08:19\n",
      "time: 00:09:31\n",
      "epoch 7, train_loss 0.088829, valid_loss 0.079756, learning_rate 0.000100, time time: 00:09:31\n",
      "time: 00:10:42\n",
      "epoch 8, train_loss 0.083035, valid_loss 0.076282, learning_rate 0.000100, time time: 00:10:42\n",
      "time: 00:11:55\n",
      "epoch 9, train_loss 0.072438, valid_loss 0.073746, learning_rate 0.000100, time time: 00:11:55\n",
      "time: 00:13:06\n",
      "epoch 10, train_loss 0.067605, valid_loss 0.071712, learning_rate 0.000100, time time: 00:13:06\n",
      "time: 00:14:18\n",
      "epoch 11, train_loss 0.068305, valid_loss 0.067387, learning_rate 0.000100, time time: 00:14:18\n",
      "time: 00:15:30\n",
      "epoch 12, train_loss 0.061855, valid_loss 0.068984, learning_rate 0.000100, time time: 00:15:30\n",
      "time: 00:16:42\n",
      "epoch 13, train_loss 0.057426, valid_loss 0.069676, learning_rate 0.000100, time time: 00:16:42\n",
      "time: 00:17:54\n",
      "epoch 14, train_loss 0.054052, valid_loss 0.061306, learning_rate 0.000100, time time: 00:17:54\n",
      "time: 00:19:06\n",
      "epoch 15, train_loss 0.052197, valid_loss 0.061941, learning_rate 0.000100, time time: 00:19:06\n",
      "time: 00:20:18\n",
      "epoch 16, train_loss 0.050097, valid_loss 0.064431, learning_rate 0.000100, time time: 00:20:18\n",
      "time: 00:21:30\n",
      "epoch 17, train_loss 0.046847, valid_loss 0.058548, learning_rate 0.000100, time time: 00:21:30\n",
      "time: 00:22:42\n",
      "epoch 18, train_loss 0.045428, valid_loss 0.061369, learning_rate 0.000100, time time: 00:22:42\n",
      "time: 00:23:54\n",
      "epoch 19, train_loss 0.042766, valid_loss 0.059575, learning_rate 0.000100, time time: 00:23:54\n",
      "time: 00:25:06\n",
      "epoch 20, train_loss 0.040990, valid_loss 0.057186, learning_rate 0.000010, time time: 00:25:06\n",
      "time: 00:26:18\n",
      "epoch 21, train_loss 0.037600, valid_loss 0.055144, learning_rate 0.000010, time time: 00:26:18\n",
      "time: 00:27:30\n",
      "epoch 22, train_loss 0.035853, valid_loss 0.061377, learning_rate 0.000010, time time: 00:27:30\n",
      "time: 00:28:42\n",
      "epoch 23, train_loss 0.034375, valid_loss 0.058689, learning_rate 0.000010, time time: 00:28:42\n",
      "time: 00:29:54\n",
      "epoch 24, train_loss 0.032762, valid_loss 0.055199, learning_rate 0.000010, time time: 00:29:54\n",
      "time: 00:31:06\n",
      "epoch 25, train_loss 0.032561, valid_loss 0.051861, learning_rate 0.000010, time time: 00:31:06\n",
      "time: 00:32:18\n",
      "epoch 26, train_loss 0.032572, valid_loss 0.054843, learning_rate 0.000010, time time: 00:32:18\n",
      "time: 00:33:29\n",
      "epoch 27, train_loss 0.033364, valid_loss 0.059136, learning_rate 0.000010, time time: 00:33:29\n",
      "time: 00:34:41\n",
      "epoch 28, train_loss 0.033035, valid_loss 0.050265, learning_rate 0.000010, time time: 00:34:41\n",
      "time: 00:35:54\n",
      "epoch 29, train_loss 0.032333, valid_loss 0.053258, learning_rate 0.000010, time time: 00:35:54\n",
      "time: 00:37:06\n",
      "epoch 30, train_loss 0.032938, valid_loss 0.054280, learning_rate 0.000010, time time: 00:37:06\n",
      "time: 00:38:18\n",
      "epoch 31, train_loss 0.031322, valid_loss 0.055186, learning_rate 0.000010, time time: 00:38:18\n",
      "time: 00:39:30\n",
      "epoch 32, train_loss 0.030575, valid_loss 0.055443, learning_rate 0.000010, time time: 00:39:30\n",
      "time: 00:40:42\n",
      "epoch 33, train_loss 0.030039, valid_loss 0.051730, learning_rate 0.000010, time time: 00:40:42\n",
      "time: 00:41:54\n",
      "epoch 34, train_loss 0.032769, valid_loss 0.057481, learning_rate 0.000010, time time: 00:41:54\n",
      "time: 00:43:06\n",
      "epoch 35, train_loss 0.031105, valid_loss 0.056152, learning_rate 0.000010, time time: 00:43:06\n",
      "time: 00:44:18\n",
      "epoch 36, train_loss 0.029718, valid_loss 0.053642, learning_rate 0.000010, time time: 00:44:18\n",
      "time: 00:45:30\n",
      "epoch 37, train_loss 0.029799, valid_loss 0.051084, learning_rate 0.000010, time time: 00:45:30\n",
      "time: 00:46:42\n",
      "epoch 38, train_loss 0.030169, valid_loss 0.056487, learning_rate 0.000010, time time: 00:46:42\n",
      "time: 00:47:54\n",
      "epoch 39, train_loss 0.029542, valid_loss 0.054625, learning_rate 0.000010, time time: 00:47:54\n",
      "time: 00:49:06\n",
      "epoch 40, train_loss 0.029676, valid_loss 0.047393, learning_rate 0.000001, time time: 00:49:06\n",
      "time: 00:50:18\n",
      "epoch 41, train_loss 0.029263, valid_loss 0.045296, learning_rate 0.000001, time time: 00:50:18\n",
      "time: 00:51:30\n",
      "time: 00:52:43\n",
      "epoch 43, train_loss 0.029670, valid_loss 0.051593, learning_rate 0.000001, time time: 00:52:43\n",
      "time: 00:53:55\n",
      "epoch 44, train_loss 0.030135, valid_loss 0.054819, learning_rate 0.000001, time time: 00:53:55\n"
     ]
    }
   ],
   "source": [
    "ctx, num_epochs, lr, wd, batch_size = mx.gpu(0), 100, 0.0001, 1e-4, 20\n",
    "lr_period, lr_decay, net = 20, 0.1, get_net(ctx)\n",
    "net.hybridize()\n",
    "net.initialize(force_reinit=True, ctx=ctx, init=init.Xavier())\n",
    "train(net, train_dataset, valid_dataset, lr, wd, num_epochs, \n",
    "      lr_decay, lr_period, batch_size, ctx)"
   ]
  },
  {
   "cell_type": "code",
   "execution_count": null,
   "metadata": {},
   "outputs": [],
   "source": []
  },
  {
   "cell_type": "code",
   "execution_count": null,
   "metadata": {},
   "outputs": [],
   "source": []
  }
 ],
 "metadata": {
  "kernelspec": {
   "display_name": "Environment (conda_mxnet_p36)",
   "language": "python",
   "name": "conda_mxnet_p36"
  },
  "language_info": {
   "codemirror_mode": {
    "name": "ipython",
    "version": 3
   },
   "file_extension": ".py",
   "mimetype": "text/x-python",
   "name": "python",
   "nbconvert_exporter": "python",
   "pygments_lexer": "ipython3",
   "version": "3.6.5"
  }
 },
 "nbformat": 4,
 "nbformat_minor": 2
}
